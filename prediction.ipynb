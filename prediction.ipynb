{
 "cells": [
  {
   "cell_type": "code",
   "execution_count": 1,
   "metadata": {
    "ExecuteTime": {
     "end_time": "2024-03-06T07:53:07.337374Z",
     "start_time": "2024-03-06T07:53:06.761528Z"
    }
   },
   "outputs": [],
   "source": [
    "import pandas as pd\n",
    "import random\n",
    "import re\n",
    "import torch\n",
    "import torch.optim as optim\n",
    "import torch.optim.lr_scheduler as lr_scheduler\n",
    "\n",
    "from torch.nn import Sigmoid\n",
    "from torch.utils.data import DataLoader, Subset, SubsetRandomSampler\n",
    "from torch.nn import (Linear, Sigmoid, Softplus, ELU, ReLU,GELU ,BatchNorm1d, ModuleList, Sequential, Tanh)\n",
    "from Graph_Dataset import GraphDataset, Atomgraph_collate\n",
    "from model_MBVGNN import Model, MBVGNN"
   ]
  },
  {
   "cell_type": "code",
   "execution_count": 2,
   "metadata": {
    "ExecuteTime": {
     "end_time": "2024-03-06T07:53:09.210343Z",
     "start_time": "2024-03-06T07:53:07.338494Z"
    }
   },
   "outputs": [
    {
     "name": "stdout",
     "output_type": "stream",
     "text": [
      "The number of files = 1\n",
      "loading : ./val/npz/my_graph_data_MP_test1_8_12_100_000.npz\n",
      "load successed, final volume : 307\n",
      "the number of valid targets = 307\n",
      "start to constructe Graph\n",
      "finish constructe the graph\n",
      "The number of valid graphs = 307\n"
     ]
    }
   ],
   "source": [
    "path = './val/'\n",
    "database = 'Eg'\n",
    "filename = 'my_graph_data_MP_test1_8_12_100_000'\n",
    "target_name = \"average_voltage\"\n",
    "cutoff = int(8)\n",
    "n_Gaussian = int(128)\n",
    "n_grid_K = int(4)\n",
    "new_data = GraphDataset(path, filename, database, target_name, cutoff,n_grid_K, n_Gaussian)"
   ]
  },
  {
   "cell_type": "code",
   "execution_count": 3,
   "metadata": {
    "ExecuteTime": {
     "end_time": "2024-03-06T07:53:11.308287Z",
     "start_time": "2024-03-06T07:53:09.212073Z"
    }
   },
   "outputs": [
    {
     "data": {
      "text/plain": [
       "<All keys matched successfully>"
      ]
     },
     "execution_count": 3,
     "metadata": {},
     "output_type": "execute_result"
    }
   ],
   "source": [
    "n_node_feat = int(new_data.graph_data[0].nodes.shape[1])\n",
    "n_hidden_feat = int(216)\n",
    "n_GCN_feat = int(216)\n",
    "conv_bias = False\n",
    "N_block = int(3)\n",
    "n_MLP_LR = int(3)\n",
    "cutoff = int(8)\n",
    "max_nei = int(12)\n",
    "n_Gaussian = int(128)\n",
    "n_grid_K = int(4)\n",
    "node_activation = 'Sigmoid'\n",
    "MLP_activation = 'ELU'\n",
    "\n",
    "use_node_batch_norm = True\n",
    "use_edge_batch_norm = True\n",
    "\n",
    "# 创建CDGNN模型实例\n",
    "model = MBVGNN(n_node_feat, n_hidden_feat, n_GCN_feat, conv_bias, N_block, node_activation, MLP_activation,\n",
    "              use_node_batch_norm, use_edge_batch_norm, cutoff, max_nei, n_MLP_LR, n_grid_K,n_Gaussian)\n",
    "\n",
    "# 加载预训练的模型权重\n",
    "model.load_state_dict(torch.load('model/model_3_8_12.pth'))"
   ]
  },
  {
   "cell_type": "code",
   "execution_count": 4,
   "metadata": {
    "ExecuteTime": {
     "end_time": "2024-03-06T07:53:11.311502Z",
     "start_time": "2024-03-06T07:53:11.309373Z"
    }
   },
   "outputs": [],
   "source": [
    "dataloader_param = dict()\n",
    "dataloader_param[\"collate_fn\"] = Atomgraph_collate\n",
    "dataloader_param[\"batch_size\"] = 30\n",
    "\n",
    "dataset = DataLoader(new_data,pin_memory=True,**dataloader_param)"
   ]
  },
  {
   "cell_type": "code",
   "execution_count": 5,
   "metadata": {
    "ExecuteTime": {
     "end_time": "2024-03-06T07:53:11.414572Z",
     "start_time": "2024-03-06T07:53:11.312710Z"
    }
   },
   "outputs": [],
   "source": [
    "MSELoss = torch.nn.MSELoss\n",
    "L1Loss =  torch.nn.L1Loss\n",
    "optimizer = optim.Adam(model.parameters())\n",
    "aa = Model(device='cuda',\n",
    "      model=model,\n",
    "      name = \"3_8_12\",\n",
    "      optimizer = optimizer,\n",
    "      scheduler = torch.optim.lr_scheduler.MultiStepLR(optimizer,milestones=[1]),\n",
    "      clip_value=None,\n",
    "      metrics=[('loss', MSELoss()), ('mae', L1Loss())])"
   ]
  },
  {
   "cell_type": "code",
   "execution_count": 6,
   "metadata": {
    "ExecuteTime": {
     "end_time": "2024-03-06T07:53:11.710373Z",
     "start_time": "2024-03-06T07:53:11.415781Z"
    }
   },
   "outputs": [
    {
     "name": "stdout",
     "output_type": "stream",
     "text": [
      "test loss: 0.0748 mae: 0.1636\n"
     ]
    }
   ],
   "source": [
    "all_outputs, all_targets, all_graph_vec = aa.evaluate(dataset)"
   ]
  },
  {
   "cell_type": "code",
   "execution_count": 7,
   "metadata": {
    "ExecuteTime": {
     "end_time": "2024-03-06T07:53:11.714901Z",
     "start_time": "2024-03-06T07:53:11.711563Z"
    }
   },
   "outputs": [],
   "source": [
    "df_predictions = pd.DataFrame({\"prediction\": all_outputs, \"target\": all_targets})\n",
    "target_names = pd.read_csv(\"./val/targets_Eg.csv\")"
   ]
  },
  {
   "cell_type": "code",
   "execution_count": 8,
   "metadata": {
    "ExecuteTime": {
     "end_time": "2024-03-06T07:53:11.800750Z",
     "start_time": "2024-03-06T07:53:11.715895Z"
    }
   },
   "outputs": [],
   "source": [
    "prediction_dataframe = pd.concat([target_names,df_predictions],axis=1)\n",
    "prediction_dataframe.drop(columns=['average_voltage'], inplace=True)"
   ]
  },
  {
   "cell_type": "code",
   "execution_count": 9,
   "metadata": {
    "ExecuteTime": {
     "end_time": "2024-03-06T07:53:11.912924Z",
     "start_time": "2024-03-06T07:53:11.813496Z"
    }
   },
   "outputs": [
    {
     "data": {
      "text/html": [
       "<div>\n",
       "<style scoped>\n",
       "    .dataframe tbody tr th:only-of-type {\n",
       "        vertical-align: middle;\n",
       "    }\n",
       "\n",
       "    .dataframe tbody tr th {\n",
       "        vertical-align: top;\n",
       "    }\n",
       "\n",
       "    .dataframe thead th {\n",
       "        text-align: right;\n",
       "    }\n",
       "</style>\n",
       "<table border=\"1\" class=\"dataframe\">\n",
       "  <thead>\n",
       "    <tr style=\"text-align: right;\">\n",
       "      <th></th>\n",
       "      <th>id</th>\n",
       "      <th>prediction</th>\n",
       "      <th>target</th>\n",
       "    </tr>\n",
       "  </thead>\n",
       "  <tbody>\n",
       "    <tr>\n",
       "      <th>0</th>\n",
       "      <td>mp-1006112</td>\n",
       "      <td>-0.010416</td>\n",
       "      <td>-0.876627</td>\n",
       "    </tr>\n",
       "    <tr>\n",
       "      <th>1</th>\n",
       "      <td>mp-1186037</td>\n",
       "      <td>0.043702</td>\n",
       "      <td>-0.661558</td>\n",
       "    </tr>\n",
       "    <tr>\n",
       "      <th>2</th>\n",
       "      <td>mp-1186073</td>\n",
       "      <td>-0.094699</td>\n",
       "      <td>-0.555672</td>\n",
       "    </tr>\n",
       "    <tr>\n",
       "      <th>3</th>\n",
       "      <td>mp-1120777</td>\n",
       "      <td>1.618308</td>\n",
       "      <td>-0.060390</td>\n",
       "    </tr>\n",
       "    <tr>\n",
       "      <th>4</th>\n",
       "      <td>mp-1190392</td>\n",
       "      <td>0.378797</td>\n",
       "      <td>0.440480</td>\n",
       "    </tr>\n",
       "    <tr>\n",
       "      <th>...</th>\n",
       "      <td>...</td>\n",
       "      <td>...</td>\n",
       "      <td>...</td>\n",
       "    </tr>\n",
       "    <tr>\n",
       "      <th>302</th>\n",
       "      <td>mp-1094125</td>\n",
       "      <td>5.184664</td>\n",
       "      <td>5.233230</td>\n",
       "    </tr>\n",
       "    <tr>\n",
       "      <th>303</th>\n",
       "      <td>mp-560780</td>\n",
       "      <td>5.247369</td>\n",
       "      <td>5.320455</td>\n",
       "    </tr>\n",
       "    <tr>\n",
       "      <th>304</th>\n",
       "      <td>mp-553997</td>\n",
       "      <td>5.278298</td>\n",
       "      <td>5.518749</td>\n",
       "    </tr>\n",
       "    <tr>\n",
       "      <th>305</th>\n",
       "      <td>mp-752506</td>\n",
       "      <td>5.880891</td>\n",
       "      <td>6.166820</td>\n",
       "    </tr>\n",
       "    <tr>\n",
       "      <th>306</th>\n",
       "      <td>mp-1079436</td>\n",
       "      <td>6.036498</td>\n",
       "      <td>6.389668</td>\n",
       "    </tr>\n",
       "  </tbody>\n",
       "</table>\n",
       "<p>307 rows × 3 columns</p>\n",
       "</div>"
      ],
      "text/plain": [
       "             id  prediction    target\n",
       "0    mp-1006112   -0.010416 -0.876627\n",
       "1    mp-1186037    0.043702 -0.661558\n",
       "2    mp-1186073   -0.094699 -0.555672\n",
       "3    mp-1120777    1.618308 -0.060390\n",
       "4    mp-1190392    0.378797  0.440480\n",
       "..          ...         ...       ...\n",
       "302  mp-1094125    5.184664  5.233230\n",
       "303   mp-560780    5.247369  5.320455\n",
       "304   mp-553997    5.278298  5.518749\n",
       "305   mp-752506    5.880891  6.166820\n",
       "306  mp-1079436    6.036498  6.389668\n",
       "\n",
       "[307 rows x 3 columns]"
      ]
     },
     "execution_count": 9,
     "metadata": {},
     "output_type": "execute_result"
    }
   ],
   "source": [
    "prediction_dataframe"
   ]
  },
  {
   "cell_type": "code",
   "execution_count": 10,
   "metadata": {
    "ExecuteTime": {
     "end_time": "2024-03-06T07:53:11.982956Z",
     "start_time": "2024-03-06T07:53:11.918126Z"
    }
   },
   "outputs": [],
   "source": [
    "prediction_dataframe.to_csv(\"data/prediction_average_voltage.csv\",index=False)"
   ]
  },
  {
   "cell_type": "code",
   "execution_count": null,
   "metadata": {},
   "outputs": [],
   "source": []
  }
 ],
 "metadata": {
  "kernelspec": {
   "display_name": "Python 3",
   "language": "python",
   "name": "python3"
  },
  "language_info": {
   "codemirror_mode": {
    "name": "ipython",
    "version": 3
   },
   "file_extension": ".py",
   "mimetype": "text/x-python",
   "name": "python",
   "nbconvert_exporter": "python",
   "pygments_lexer": "ipython3",
   "version": "3.7.3"
  },
  "latex_envs": {
   "LaTeX_envs_menu_present": true,
   "autoclose": false,
   "autocomplete": true,
   "bibliofile": "biblio.bib",
   "cite_by": "apalike",
   "current_citInitial": 1,
   "eqLabelWithNumbers": true,
   "eqNumInitial": 1,
   "hotkeys": {
    "equation": "Ctrl-E",
    "itemize": "Ctrl-I"
   },
   "labels_anchors": false,
   "latex_user_defs": false,
   "report_style_numbering": false,
   "user_envs_cfg": false
  },
  "toc": {
   "base_numbering": 1,
   "nav_menu": {},
   "number_sections": true,
   "sideBar": true,
   "skip_h1_title": false,
   "title_cell": "Table of Contents",
   "title_sidebar": "Contents",
   "toc_cell": false,
   "toc_position": {},
   "toc_section_display": true,
   "toc_window_display": false
  },
  "varInspector": {
   "cols": {
    "lenName": 16,
    "lenType": 16,
    "lenVar": 40
   },
   "kernels_config": {
    "python": {
     "delete_cmd_postfix": "",
     "delete_cmd_prefix": "del ",
     "library": "var_list.py",
     "varRefreshCmd": "print(var_dic_list())"
    },
    "r": {
     "delete_cmd_postfix": ") ",
     "delete_cmd_prefix": "rm(",
     "library": "var_list.r",
     "varRefreshCmd": "cat(var_dic_list()) "
    }
   },
   "types_to_exclude": [
    "module",
    "function",
    "builtin_function_or_method",
    "instance",
    "_Feature"
   ],
   "window_display": false
  },
  "vscode": {
   "interpreter": {
    "hash": "82fe54515669425d2f723feb4ac882f338aac15df0bacab811b8774bfce26ca1"
   }
  }
 },
 "nbformat": 4,
 "nbformat_minor": 2
}

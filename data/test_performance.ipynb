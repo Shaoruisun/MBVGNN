{
 "cells": [
  {
   "cell_type": "code",
   "execution_count": 1,
   "metadata": {
    "ExecuteTime": {
     "end_time": "2024-03-06T07:56:32.652720Z",
     "start_time": "2024-03-06T07:56:32.341772Z"
    }
   },
   "outputs": [],
   "source": [
    "import pandas as pd\n",
    "from sklearn.metrics import mean_absolute_error,mean_squared_error,r2_score"
   ]
  },
  {
   "cell_type": "code",
   "execution_count": 2,
   "metadata": {
    "ExecuteTime": {
     "end_time": "2024-03-06T07:56:32.665374Z",
     "start_time": "2024-03-06T07:56:32.653886Z"
    }
   },
   "outputs": [
    {
     "data": {
      "text/html": [
       "<div>\n",
       "<style scoped>\n",
       "    .dataframe tbody tr th:only-of-type {\n",
       "        vertical-align: middle;\n",
       "    }\n",
       "\n",
       "    .dataframe tbody tr th {\n",
       "        vertical-align: top;\n",
       "    }\n",
       "\n",
       "    .dataframe thead th {\n",
       "        text-align: right;\n",
       "    }\n",
       "</style>\n",
       "<table border=\"1\" class=\"dataframe\">\n",
       "  <thead>\n",
       "    <tr style=\"text-align: right;\">\n",
       "      <th></th>\n",
       "      <th>name</th>\n",
       "      <th>prediction</th>\n",
       "      <th>target</th>\n",
       "    </tr>\n",
       "  </thead>\n",
       "  <tbody>\n",
       "    <tr>\n",
       "      <th>0</th>\n",
       "      <td>mp-558049</td>\n",
       "      <td>4.401088</td>\n",
       "      <td>3.695486</td>\n",
       "    </tr>\n",
       "    <tr>\n",
       "      <th>1</th>\n",
       "      <td>mp-1220949</td>\n",
       "      <td>4.848987</td>\n",
       "      <td>5.024059</td>\n",
       "    </tr>\n",
       "    <tr>\n",
       "      <th>2</th>\n",
       "      <td>mp-19261</td>\n",
       "      <td>3.656169</td>\n",
       "      <td>3.369558</td>\n",
       "    </tr>\n",
       "    <tr>\n",
       "      <th>3</th>\n",
       "      <td>mp-759323</td>\n",
       "      <td>2.936469</td>\n",
       "      <td>2.574007</td>\n",
       "    </tr>\n",
       "    <tr>\n",
       "      <th>4</th>\n",
       "      <td>mp-557578</td>\n",
       "      <td>3.002692</td>\n",
       "      <td>2.784205</td>\n",
       "    </tr>\n",
       "    <tr>\n",
       "      <th>5</th>\n",
       "      <td>mp-542710</td>\n",
       "      <td>3.021608</td>\n",
       "      <td>3.183568</td>\n",
       "    </tr>\n",
       "    <tr>\n",
       "      <th>6</th>\n",
       "      <td>mp-21036</td>\n",
       "      <td>3.038167</td>\n",
       "      <td>3.156687</td>\n",
       "    </tr>\n",
       "    <tr>\n",
       "      <th>7</th>\n",
       "      <td>mp-754835</td>\n",
       "      <td>1.606239</td>\n",
       "      <td>0.974643</td>\n",
       "    </tr>\n",
       "    <tr>\n",
       "      <th>8</th>\n",
       "      <td>mp-753301</td>\n",
       "      <td>3.455353</td>\n",
       "      <td>2.932747</td>\n",
       "    </tr>\n",
       "    <tr>\n",
       "      <th>9</th>\n",
       "      <td>mp-558048</td>\n",
       "      <td>3.119154</td>\n",
       "      <td>3.156789</td>\n",
       "    </tr>\n",
       "    <tr>\n",
       "      <th>10</th>\n",
       "      <td>mp-759333</td>\n",
       "      <td>1.480467</td>\n",
       "      <td>1.968958</td>\n",
       "    </tr>\n",
       "    <tr>\n",
       "      <th>11</th>\n",
       "      <td>mp-760204</td>\n",
       "      <td>2.583753</td>\n",
       "      <td>2.629470</td>\n",
       "    </tr>\n",
       "    <tr>\n",
       "      <th>12</th>\n",
       "      <td>mp-778594</td>\n",
       "      <td>2.782670</td>\n",
       "      <td>3.211570</td>\n",
       "    </tr>\n",
       "    <tr>\n",
       "      <th>13</th>\n",
       "      <td>mp-771495</td>\n",
       "      <td>4.464932</td>\n",
       "      <td>3.640099</td>\n",
       "    </tr>\n",
       "    <tr>\n",
       "      <th>14</th>\n",
       "      <td>mp-780164</td>\n",
       "      <td>4.053479</td>\n",
       "      <td>4.636877</td>\n",
       "    </tr>\n",
       "    <tr>\n",
       "      <th>15</th>\n",
       "      <td>mp-1101719</td>\n",
       "      <td>4.360090</td>\n",
       "      <td>4.418469</td>\n",
       "    </tr>\n",
       "    <tr>\n",
       "      <th>16</th>\n",
       "      <td>mp-757403</td>\n",
       "      <td>3.108582</td>\n",
       "      <td>2.982478</td>\n",
       "    </tr>\n",
       "    <tr>\n",
       "      <th>17</th>\n",
       "      <td>mp-752947</td>\n",
       "      <td>1.689099</td>\n",
       "      <td>1.537476</td>\n",
       "    </tr>\n",
       "    <tr>\n",
       "      <th>18</th>\n",
       "      <td>mp-19149</td>\n",
       "      <td>3.394443</td>\n",
       "      <td>3.298910</td>\n",
       "    </tr>\n",
       "    <tr>\n",
       "      <th>19</th>\n",
       "      <td>mp-1012742</td>\n",
       "      <td>4.584968</td>\n",
       "      <td>4.738862</td>\n",
       "    </tr>\n",
       "    <tr>\n",
       "      <th>20</th>\n",
       "      <td>mp-560242</td>\n",
       "      <td>3.579054</td>\n",
       "      <td>3.787744</td>\n",
       "    </tr>\n",
       "    <tr>\n",
       "      <th>21</th>\n",
       "      <td>mp-1221416</td>\n",
       "      <td>1.056704</td>\n",
       "      <td>0.802406</td>\n",
       "    </tr>\n",
       "    <tr>\n",
       "      <th>22</th>\n",
       "      <td>mp-7433</td>\n",
       "      <td>1.684897</td>\n",
       "      <td>1.617255</td>\n",
       "    </tr>\n",
       "    <tr>\n",
       "      <th>23</th>\n",
       "      <td>mp-7937</td>\n",
       "      <td>1.919008</td>\n",
       "      <td>1.788384</td>\n",
       "    </tr>\n",
       "    <tr>\n",
       "      <th>24</th>\n",
       "      <td>mp-505090</td>\n",
       "      <td>2.819115</td>\n",
       "      <td>2.471841</td>\n",
       "    </tr>\n",
       "    <tr>\n",
       "      <th>25</th>\n",
       "      <td>mp-1173562</td>\n",
       "      <td>4.240045</td>\n",
       "      <td>4.168594</td>\n",
       "    </tr>\n",
       "    <tr>\n",
       "      <th>26</th>\n",
       "      <td>mp-19359</td>\n",
       "      <td>3.430587</td>\n",
       "      <td>3.764714</td>\n",
       "    </tr>\n",
       "    <tr>\n",
       "      <th>27</th>\n",
       "      <td>mp-38257</td>\n",
       "      <td>1.965372</td>\n",
       "      <td>1.964178</td>\n",
       "    </tr>\n",
       "    <tr>\n",
       "      <th>28</th>\n",
       "      <td>mp-769465</td>\n",
       "      <td>3.335989</td>\n",
       "      <td>3.359247</td>\n",
       "    </tr>\n",
       "    <tr>\n",
       "      <th>29</th>\n",
       "      <td>mp-753672</td>\n",
       "      <td>3.224606</td>\n",
       "      <td>3.014150</td>\n",
       "    </tr>\n",
       "  </tbody>\n",
       "</table>\n",
       "</div>"
      ],
      "text/plain": [
       "          name  prediction    target\n",
       "0    mp-558049    4.401088  3.695486\n",
       "1   mp-1220949    4.848987  5.024059\n",
       "2     mp-19261    3.656169  3.369558\n",
       "3    mp-759323    2.936469  2.574007\n",
       "4    mp-557578    3.002692  2.784205\n",
       "5    mp-542710    3.021608  3.183568\n",
       "6     mp-21036    3.038167  3.156687\n",
       "7    mp-754835    1.606239  0.974643\n",
       "8    mp-753301    3.455353  2.932747\n",
       "9    mp-558048    3.119154  3.156789\n",
       "10   mp-759333    1.480467  1.968958\n",
       "11   mp-760204    2.583753  2.629470\n",
       "12   mp-778594    2.782670  3.211570\n",
       "13   mp-771495    4.464932  3.640099\n",
       "14   mp-780164    4.053479  4.636877\n",
       "15  mp-1101719    4.360090  4.418469\n",
       "16   mp-757403    3.108582  2.982478\n",
       "17   mp-752947    1.689099  1.537476\n",
       "18    mp-19149    3.394443  3.298910\n",
       "19  mp-1012742    4.584968  4.738862\n",
       "20   mp-560242    3.579054  3.787744\n",
       "21  mp-1221416    1.056704  0.802406\n",
       "22     mp-7433    1.684897  1.617255\n",
       "23     mp-7937    1.919008  1.788384\n",
       "24   mp-505090    2.819115  2.471841\n",
       "25  mp-1173562    4.240045  4.168594\n",
       "26    mp-19359    3.430587  3.764714\n",
       "27    mp-38257    1.965372  1.964178\n",
       "28   mp-769465    3.335989  3.359247\n",
       "29   mp-753672    3.224606  3.014150"
      ]
     },
     "execution_count": 2,
     "metadata": {},
     "output_type": "execute_result"
    }
   ],
   "source": [
    "data = pd.read_csv(\"test_predictions_3_8_12.csv\")\n",
    "data"
   ]
  },
  {
   "cell_type": "code",
   "execution_count": 3,
   "metadata": {
    "ExecuteTime": {
     "end_time": "2024-03-06T07:56:32.759424Z",
     "start_time": "2024-03-06T07:56:32.666800Z"
    }
   },
   "outputs": [
    {
     "data": {
      "text/plain": [
       "0.26088122666666663"
      ]
     },
     "execution_count": 3,
     "metadata": {},
     "output_type": "execute_result"
    }
   ],
   "source": [
    "mae  = mean_absolute_error(data['prediction'],data['target'])\n",
    "mae"
   ]
  },
  {
   "cell_type": "code",
   "execution_count": 4,
   "metadata": {
    "ExecuteTime": {
     "end_time": "2024-03-06T07:56:32.847775Z",
     "start_time": "2024-03-06T07:56:32.765316Z"
    }
   },
   "outputs": [
    {
     "data": {
      "text/plain": [
       "0.11453427739711398"
      ]
     },
     "execution_count": 4,
     "metadata": {},
     "output_type": "execute_result"
    }
   ],
   "source": [
    "MSE = mean_squared_error(data['prediction'],data['target'])\n",
    "MSE"
   ]
  },
  {
   "cell_type": "code",
   "execution_count": 5,
   "metadata": {
    "ExecuteTime": {
     "end_time": "2024-03-06T07:56:32.930255Z",
     "start_time": "2024-03-06T07:56:32.851974Z"
    }
   },
   "outputs": [
    {
     "name": "stdout",
     "output_type": "stream",
     "text": [
      "training RMSE = 0.3384 V\n"
     ]
    }
   ],
   "source": [
    "import numpy as np\n",
    "print('training RMSE = {:.4f} V'.format(np.sqrt(MSE)))"
   ]
  },
  {
   "cell_type": "code",
   "execution_count": 6,
   "metadata": {
    "ExecuteTime": {
     "end_time": "2024-03-06T07:56:33.020629Z",
     "start_time": "2024-03-06T07:56:32.935922Z"
    }
   },
   "outputs": [
    {
     "data": {
      "text/plain": [
       "0.8844852460197149"
      ]
     },
     "execution_count": 6,
     "metadata": {},
     "output_type": "execute_result"
    }
   ],
   "source": [
    "r2 = r2_score(data['prediction'],data['target'])\n",
    "r2"
   ]
  },
  {
   "cell_type": "code",
   "execution_count": null,
   "metadata": {},
   "outputs": [],
   "source": []
  }
 ],
 "metadata": {
  "kernelspec": {
   "display_name": "Python 3",
   "language": "python",
   "name": "python3"
  },
  "language_info": {
   "codemirror_mode": {
    "name": "ipython",
    "version": 3
   },
   "file_extension": ".py",
   "mimetype": "text/x-python",
   "name": "python",
   "nbconvert_exporter": "python",
   "pygments_lexer": "ipython3",
   "version": "3.7.3"
  },
  "latex_envs": {
   "LaTeX_envs_menu_present": true,
   "autoclose": false,
   "autocomplete": true,
   "bibliofile": "biblio.bib",
   "cite_by": "apalike",
   "current_citInitial": 1,
   "eqLabelWithNumbers": true,
   "eqNumInitial": 1,
   "hotkeys": {
    "equation": "Ctrl-E",
    "itemize": "Ctrl-I"
   },
   "labels_anchors": false,
   "latex_user_defs": false,
   "report_style_numbering": false,
   "user_envs_cfg": false
  },
  "toc": {
   "base_numbering": 1,
   "nav_menu": {},
   "number_sections": true,
   "sideBar": true,
   "skip_h1_title": false,
   "title_cell": "Table of Contents",
   "title_sidebar": "Contents",
   "toc_cell": false,
   "toc_position": {},
   "toc_section_display": true,
   "toc_window_display": false
  },
  "varInspector": {
   "cols": {
    "lenName": 16,
    "lenType": 16,
    "lenVar": 40
   },
   "kernels_config": {
    "python": {
     "delete_cmd_postfix": "",
     "delete_cmd_prefix": "del ",
     "library": "var_list.py",
     "varRefreshCmd": "print(var_dic_list())"
    },
    "r": {
     "delete_cmd_postfix": ") ",
     "delete_cmd_prefix": "rm(",
     "library": "var_list.r",
     "varRefreshCmd": "cat(var_dic_list()) "
    }
   },
   "types_to_exclude": [
    "module",
    "function",
    "builtin_function_or_method",
    "instance",
    "_Feature"
   ],
   "window_display": false
  }
 },
 "nbformat": 4,
 "nbformat_minor": 2
}
